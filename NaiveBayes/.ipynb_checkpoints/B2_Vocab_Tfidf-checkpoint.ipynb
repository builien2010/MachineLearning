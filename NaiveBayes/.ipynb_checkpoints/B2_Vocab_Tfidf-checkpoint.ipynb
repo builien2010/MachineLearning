{
 "cells": [
  {
   "cell_type": "code",
   "execution_count": 9,
   "metadata": {},
   "outputs": [],
   "source": [
    "from sklearn.feature_extraction.text import CountVectorizer, TfidfVectorizer\n",
    "from scipy import sparse, io\n"
   ]
  },
  {
   "cell_type": "code",
   "execution_count": 10,
   "metadata": {},
   "outputs": [],
   "source": [
    "contents_train = []\n",
    "contents_test = []"
   ]
  },
  {
   "cell_type": "code",
   "execution_count": 11,
   "metadata": {},
   "outputs": [],
   "source": [
    "\n",
    "f = open(\"train.txt\", \"r\")\n",
    "labels = \"\"\n",
    "for line in f:\n",
    "    \n",
    "    line = line.rstrip()\n",
    "    line = line.split(\"<###>\")\n",
    "    contents_train.append(line[1])\n",
    "    labels = labels + line[0] + \"\\n\"\n",
    "f.close()"
   ]
  },
  {
   "cell_type": "code",
   "execution_count": 12,
   "metadata": {},
   "outputs": [],
   "source": [
    "f = open(\"test.txt\", \"r\")\n",
    "labels_test = \"\"\n",
    "for line in f:\n",
    "    line = line.rstrip()\n",
    "    line = line.split(\"<###>\")\n",
    "    contents_test.append(line[1])\n",
    "    labels_test = labels_test + line[0] + \"\\n\"\n",
    "f.close()"
   ]
  },
  {
   "cell_type": "code",
   "execution_count": 13,
   "metadata": {},
   "outputs": [],
   "source": [
    "contents = contents_train + contents_test"
   ]
  },
  {
   "cell_type": "code",
   "execution_count": 30,
   "metadata": {},
   "outputs": [],
   "source": [
    "tfidf_vectorizer = TfidfVectorizer(min_df = 0.0005, max_df = 0.990)\n",
    "matrix = tfidf_vectorizer.fit_transform(contents)\n",
    "print(\"matrix.shape: \", matrix.shape)\n",
    "io.mmwrite('all.mtx', matrix)\n",
    "\n",
    "vocab =  tfidf_vectorizer.get_feature_names()\n",
    "\n",
    "print(len(vocab))\n"
   ]
  },
  {
   "cell_type": "code",
   "execution_count": 33,
   "metadata": {},
   "outputs": [
    {
     "ename": "TypeError",
     "evalue": "'TfidfVectorizer' object is not iterable",
     "output_type": "error",
     "traceback": [
      "\u001b[0;31m---------------------------------------------------------------------------\u001b[0m",
      "\u001b[0;31mTypeError\u001b[0m                                 Traceback (most recent call last)",
      "\u001b[0;32m<ipython-input-33-4b727b1f87c6>\u001b[0m in \u001b[0;36m<module>\u001b[0;34m\u001b[0m\n\u001b[0;32m----> 1\u001b[0;31m \u001b[0mmatrix\u001b[0m \u001b[0;34m=\u001b[0m  \u001b[0mtfidf_vectorizer\u001b[0m\u001b[0;34m.\u001b[0m\u001b[0mtransform\u001b[0m\u001b[0;34m(\u001b[0m\u001b[0mmatrix\u001b[0m\u001b[0;34m)\u001b[0m\u001b[0;34m\u001b[0m\u001b[0m\n\u001b[0m\u001b[1;32m      2\u001b[0m \u001b[0mmatrix1\u001b[0m \u001b[0;34m=\u001b[0m \u001b[0mmatrix\u001b[0m\u001b[0;34m[\u001b[0m\u001b[0;36m0\u001b[0m\u001b[0;34m:\u001b[0m\u001b[0;36m11314\u001b[0m\u001b[0;34m,\u001b[0m \u001b[0;34m:\u001b[0m\u001b[0;34m]\u001b[0m\u001b[0;34m\u001b[0m\u001b[0m\n\u001b[1;32m      3\u001b[0m \u001b[0mprint\u001b[0m\u001b[0;34m(\u001b[0m\u001b[0mmatrix1\u001b[0m\u001b[0;34m)\u001b[0m\u001b[0;34m\u001b[0m\u001b[0m\n",
      "\u001b[0;32m/usr/local/lib/python3.5/dist-packages/sklearn/feature_extraction/text.py\u001b[0m in \u001b[0;36mtransform\u001b[0;34m(self, raw_documents, copy)\u001b[0m\n\u001b[1;32m   1629\u001b[0m         \u001b[0mcheck_is_fitted\u001b[0m\u001b[0;34m(\u001b[0m\u001b[0mself\u001b[0m\u001b[0;34m,\u001b[0m \u001b[0;34m'_tfidf'\u001b[0m\u001b[0;34m,\u001b[0m \u001b[0;34m'The tfidf vector is not fitted'\u001b[0m\u001b[0;34m)\u001b[0m\u001b[0;34m\u001b[0m\u001b[0m\n\u001b[1;32m   1630\u001b[0m \u001b[0;34m\u001b[0m\u001b[0m\n\u001b[0;32m-> 1631\u001b[0;31m         \u001b[0mX\u001b[0m \u001b[0;34m=\u001b[0m \u001b[0msuper\u001b[0m\u001b[0;34m(\u001b[0m\u001b[0mTfidfVectorizer\u001b[0m\u001b[0;34m,\u001b[0m \u001b[0mself\u001b[0m\u001b[0;34m)\u001b[0m\u001b[0;34m.\u001b[0m\u001b[0mtransform\u001b[0m\u001b[0;34m(\u001b[0m\u001b[0mraw_documents\u001b[0m\u001b[0;34m)\u001b[0m\u001b[0;34m\u001b[0m\u001b[0m\n\u001b[0m\u001b[1;32m   1632\u001b[0m         \u001b[0;32mreturn\u001b[0m \u001b[0mself\u001b[0m\u001b[0;34m.\u001b[0m\u001b[0m_tfidf\u001b[0m\u001b[0;34m.\u001b[0m\u001b[0mtransform\u001b[0m\u001b[0;34m(\u001b[0m\u001b[0mX\u001b[0m\u001b[0;34m,\u001b[0m \u001b[0mcopy\u001b[0m\u001b[0;34m=\u001b[0m\u001b[0;32mFalse\u001b[0m\u001b[0;34m)\u001b[0m\u001b[0;34m\u001b[0m\u001b[0m\n",
      "\u001b[0;32m/usr/local/lib/python3.5/dist-packages/sklearn/feature_extraction/text.py\u001b[0m in \u001b[0;36mtransform\u001b[0;34m(self, raw_documents)\u001b[0m\n\u001b[1;32m   1084\u001b[0m \u001b[0;34m\u001b[0m\u001b[0m\n\u001b[1;32m   1085\u001b[0m         \u001b[0;31m# use the same matrix-building strategy as fit_transform\u001b[0m\u001b[0;34m\u001b[0m\u001b[0;34m\u001b[0m\u001b[0m\n\u001b[0;32m-> 1086\u001b[0;31m         \u001b[0m_\u001b[0m\u001b[0;34m,\u001b[0m \u001b[0mX\u001b[0m \u001b[0;34m=\u001b[0m \u001b[0mself\u001b[0m\u001b[0;34m.\u001b[0m\u001b[0m_count_vocab\u001b[0m\u001b[0;34m(\u001b[0m\u001b[0mraw_documents\u001b[0m\u001b[0;34m,\u001b[0m \u001b[0mfixed_vocab\u001b[0m\u001b[0;34m=\u001b[0m\u001b[0;32mTrue\u001b[0m\u001b[0;34m)\u001b[0m\u001b[0;34m\u001b[0m\u001b[0m\n\u001b[0m\u001b[1;32m   1087\u001b[0m         \u001b[0;32mif\u001b[0m \u001b[0mself\u001b[0m\u001b[0;34m.\u001b[0m\u001b[0mbinary\u001b[0m\u001b[0;34m:\u001b[0m\u001b[0;34m\u001b[0m\u001b[0m\n\u001b[1;32m   1088\u001b[0m             \u001b[0mX\u001b[0m\u001b[0;34m.\u001b[0m\u001b[0mdata\u001b[0m\u001b[0;34m.\u001b[0m\u001b[0mfill\u001b[0m\u001b[0;34m(\u001b[0m\u001b[0;36m1\u001b[0m\u001b[0;34m)\u001b[0m\u001b[0;34m\u001b[0m\u001b[0m\n",
      "\u001b[0;32m/usr/local/lib/python3.5/dist-packages/sklearn/feature_extraction/text.py\u001b[0m in \u001b[0;36m_count_vocab\u001b[0;34m(self, raw_documents, fixed_vocab)\u001b[0m\n\u001b[1;32m    938\u001b[0m         \u001b[0mvalues\u001b[0m \u001b[0;34m=\u001b[0m \u001b[0m_make_int_array\u001b[0m\u001b[0;34m(\u001b[0m\u001b[0;34m)\u001b[0m\u001b[0;34m\u001b[0m\u001b[0m\n\u001b[1;32m    939\u001b[0m         \u001b[0mindptr\u001b[0m\u001b[0;34m.\u001b[0m\u001b[0mappend\u001b[0m\u001b[0;34m(\u001b[0m\u001b[0;36m0\u001b[0m\u001b[0;34m)\u001b[0m\u001b[0;34m\u001b[0m\u001b[0m\n\u001b[0;32m--> 940\u001b[0;31m         \u001b[0;32mfor\u001b[0m \u001b[0mdoc\u001b[0m \u001b[0;32min\u001b[0m \u001b[0mraw_documents\u001b[0m\u001b[0;34m:\u001b[0m\u001b[0;34m\u001b[0m\u001b[0m\n\u001b[0m\u001b[1;32m    941\u001b[0m             \u001b[0mfeature_counter\u001b[0m \u001b[0;34m=\u001b[0m \u001b[0;34m{\u001b[0m\u001b[0;34m}\u001b[0m\u001b[0;34m\u001b[0m\u001b[0m\n\u001b[1;32m    942\u001b[0m             \u001b[0;32mfor\u001b[0m \u001b[0mfeature\u001b[0m \u001b[0;32min\u001b[0m \u001b[0manalyze\u001b[0m\u001b[0;34m(\u001b[0m\u001b[0mdoc\u001b[0m\u001b[0;34m)\u001b[0m\u001b[0;34m:\u001b[0m\u001b[0;34m\u001b[0m\u001b[0m\n",
      "\u001b[0;31mTypeError\u001b[0m: 'TfidfVectorizer' object is not iterable"
     ]
    }
   ],
   "source": [
    "matrix1 = matrix[0:11314, :]\n",
    "print(matrix1)"
   ]
  },
  {
   "cell_type": "code",
   "execution_count": 24,
   "metadata": {},
   "outputs": [],
   "source": [
    "io.mmwrite(\"train.mtx\", matrix1)"
   ]
  },
  {
   "cell_type": "code",
   "execution_count": 25,
   "metadata": {},
   "outputs": [
    {
     "name": "stdout",
     "output_type": "stream",
     "text": [
      "  (0, 525)\t0.05723821554451065\n",
      "  (0, 880)\t0.09711669055483839\n",
      "  (0, 950)\t0.14600758783257942\n",
      "  (0, 2293)\t0.10016245475843194\n",
      "  (0, 3858)\t0.11545936068036602\n",
      "  (0, 4275)\t0.12056928322604805\n",
      "  (0, 4335)\t0.17498440482469974\n",
      "  (0, 5596)\t0.07824729738792664\n",
      "  (0, 6620)\t0.12448591044946024\n",
      "  (0, 9384)\t0.07493541823360492\n",
      "  (0, 9875)\t0.06607012522865074\n",
      "  (0, 10196)\t0.08434913542098409\n",
      "  (0, 10273)\t0.12291981698403803\n",
      "  (0, 10398)\t0.11400450256922634\n",
      "  (0, 10441)\t0.0514281497775207\n",
      "  (0, 385)\t0.11855911185687908\n",
      "  (0, 2019)\t0.13381414595633354\n",
      "  (0, 2038)\t0.08220468877614096\n",
      "  (0, 2102)\t0.1290942134687734\n",
      "  (0, 4673)\t0.1294529088867696\n",
      "  (0, 5190)\t0.158276956379203\n",
      "  (0, 7263)\t0.19769466763089313\n",
      "  (0, 7664)\t0.12626319670688674\n",
      "  (0, 8081)\t0.1017564331070393\n",
      "  (0, 10421)\t0.06268325110168259\n",
      "  :\t:\n",
      "  (7531, 6838)\t0.12009044922309298\n",
      "  (7531, 3652)\t0.15470189635220027\n",
      "  (7531, 5007)\t0.1393423860618171\n",
      "  (7531, 8049)\t0.1526430950922721\n",
      "  (7531, 3085)\t0.1402866298933252\n",
      "  (7531, 7248)\t0.1838373103487588\n",
      "  (7531, 965)\t0.11313340426164588\n",
      "  (7531, 1945)\t0.17630313796509167\n",
      "  (7531, 8316)\t0.16625656666707633\n",
      "  (7531, 9305)\t0.15470189635220027\n",
      "  (7531, 3025)\t0.1380566752115737\n",
      "  (7531, 9797)\t0.12100363416599476\n",
      "  (7531, 5431)\t0.16728094512794828\n",
      "  (7531, 3673)\t0.21969332053201748\n",
      "  (7531, 4804)\t0.1418495965265706\n",
      "  (7531, 7135)\t0.2015435210673943\n",
      "  (7531, 7698)\t0.20373948744571432\n",
      "  (7531, 4017)\t0.14244801394290202\n",
      "  (7531, 2789)\t0.17304945144735143\n",
      "  (7531, 9259)\t0.22403532947276356\n",
      "  (7531, 384)\t0.20373948744571432\n",
      "  (7531, 4144)\t0.1790165255203809\n",
      "  (7531, 2779)\t0.184598635159628\n",
      "  (7531, 10037)\t0.15855863043127977\n",
      "  (7531, 6772)\t0.22917083604709207\n"
     ]
    }
   ],
   "source": [
    "matrix2 = matrix[11314:, :]\n",
    "print(matrix2)"
   ]
  },
  {
   "cell_type": "code",
   "execution_count": 26,
   "metadata": {},
   "outputs": [],
   "source": [
    "io.mmwrite(\"test.mtx\", matrix2)"
   ]
  },
  {
   "cell_type": "code",
   "execution_count": 28,
   "metadata": {},
   "outputs": [],
   "source": [
    "f = open(\"vocab.txt\", \"w+\")\n",
    "\n",
    "for i in vocab:\n",
    "    i = i + '\\n'\n",
    "    #print(i)\n",
    "    vocab = vocab + i\n",
    "\n",
    "f.write(vocab)\n",
    "\n",
    "f.close()"
   ]
  },
  {
   "cell_type": "code",
   "execution_count": null,
   "metadata": {},
   "outputs": [],
   "source": []
  }
 ],
 "metadata": {
  "kernelspec": {
   "display_name": "Python 3",
   "language": "python",
   "name": "python3"
  },
  "language_info": {
   "codemirror_mode": {
    "name": "ipython",
    "version": 3
   },
   "file_extension": ".py",
   "mimetype": "text/x-python",
   "name": "python",
   "nbconvert_exporter": "python",
   "pygments_lexer": "ipython3",
   "version": "3.5.2"
  }
 },
 "nbformat": 4,
 "nbformat_minor": 2
}
