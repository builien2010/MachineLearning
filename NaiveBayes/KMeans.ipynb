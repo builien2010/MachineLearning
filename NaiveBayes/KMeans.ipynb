{
 "cells": [
  {
   "cell_type": "code",
   "execution_count": 4,
   "metadata": {},
   "outputs": [],
   "source": [
    "\n",
    "from sklearn.cluster import KMeans \n",
    "from sklearn.feature_extraction.text import TfidfVectorizer \n",
    "from scipy import io\n",
    "from sklearn import metrics"
   ]
  },
  {
   "cell_type": "code",
   "execution_count": 5,
   "metadata": {},
   "outputs": [],
   "source": [
    "X_train = io.mmread(\"all.mtx\")"
   ]
  },
  {
   "cell_type": "code",
   "execution_count": 6,
   "metadata": {},
   "outputs": [],
   "source": [
    "labels_true = []"
   ]
  },
  {
   "cell_type": "code",
   "execution_count": 7,
   "metadata": {},
   "outputs": [],
   "source": [
    "f = open(\"labels.txt\", \"r\")"
   ]
  },
  {
   "cell_type": "code",
   "execution_count": 8,
   "metadata": {},
   "outputs": [],
   "source": [
    "labels_true = [] \n",
    "data = f.read()\n",
    "lines = data.split(\"\\n\")\n",
    "for line in lines:\n",
    "    #line = line.rstrip()\n",
    "    #print(line)\n",
    "    if( line != ' '):\n",
    "        labels_true.append(line)\n",
    "f.close()"
   ]
  },
  {
   "cell_type": "code",
   "execution_count": 9,
   "metadata": {},
   "outputs": [],
   "source": [
    "#print(\"label:\", labels_true)\n",
    "del labels_true[-1]\n",
    "#print(len(labels_true))"
   ]
  },
  {
   "cell_type": "code",
   "execution_count": 10,
   "metadata": {},
   "outputs": [
    {
     "name": "stdout",
     "output_type": "stream",
     "text": [
      "Khoi tao KMeans\n",
      "Chay Kmeans\n"
     ]
    },
    {
     "data": {
      "text/plain": [
       "KMeans(algorithm='auto', copy_x=True, init='k-means++', max_iter=100,\n",
       "    n_clusters=20, n_init=1, n_jobs=None, precompute_distances='auto',\n",
       "    random_state=None, tol=0.0001, verbose=0)"
      ]
     },
     "execution_count": 10,
     "metadata": {},
     "output_type": "execute_result"
    }
   ],
   "source": [
    "print(\"Khoi tao KMeans\")\n",
    "model = KMeans(n_clusters = 20, init='k-means++', max_iter = 100, n_init = 1)\n",
    "\n",
    "print(\"Chay Kmeans\")\n",
    "model.fit(X_train)"
   ]
  },
  {
   "cell_type": "code",
   "execution_count": 11,
   "metadata": {},
   "outputs": [],
   "source": [
    "pre = model.labels_"
   ]
  },
  {
   "cell_type": "code",
   "execution_count": 12,
   "metadata": {},
   "outputs": [],
   "source": [
    "labels = labels_true"
   ]
  },
  {
   "cell_type": "code",
   "execution_count": 13,
   "metadata": {},
   "outputs": [
    {
     "name": "stdout",
     "output_type": "stream",
     "text": [
      "Homogeneity: \n",
      "0.4290336030958182\n",
      "Completeness: \n",
      "0.4688233158319795\n",
      "Adjusted Rand Index: \n",
      "0.2089931309608354\n"
     ]
    }
   ],
   "source": [
    "# Homogeneity : tính đồng nhất\n",
    "print(\"Homogeneity: \")\n",
    "print(metrics.homogeneity_score(labels, pre))\n",
    "\n",
    "# Completeness : tính đầy đủ\n",
    "print(\"Completeness: \")\n",
    "print(metrics.completeness_score(labels, pre))\n",
    "\n",
    "# Adjusted Rand Index: điều chỉnh Rand-Index\n",
    "print(\"Adjusted Rand Index: \")\n",
    "print(metrics.adjusted_rand_score(labels, pre))\n",
    "\n",
    "# Hệ số bóng\n",
    "#print(\"Silhouette Coeficient: \")\n",
    "#print(metrics.silhoutette_score(labels, pre))"
   ]
  },
  {
   "cell_type": "code",
   "execution_count": 14,
   "metadata": {},
   "outputs": [
    {
     "name": "stdout",
     "output_type": "stream",
     "text": [
      "Khoi tao KMeans\n",
      "Chay Kmeans\n",
      "Homogeneity: \n",
      "0.45125597729516354\n",
      "Completeness: \n",
      "0.4924961756963839\n",
      "Adjusted Rand Index: \n",
      "0.2546728904600089\n"
     ]
    }
   ],
   "source": [
    "print(\"Khoi tao KMeans\")\n",
    "model = KMeans(n_clusters = 20, init='k-means++', max_iter = 100, n_init = 2)\n",
    "\n",
    "print(\"Chay Kmeans\")\n",
    "model.fit(X_train)\n",
    "\n",
    "pre = model.labels_\n",
    "\n",
    "# Homogeneity : tính đồng nhất\n",
    "print(\"Homogeneity: \")\n",
    "print(metrics.homogeneity_score(labels, pre))\n",
    "\n",
    "# Completeness : tính đầy đủ\n",
    "print(\"Completeness: \")\n",
    "print(metrics.completeness_score(labels, pre))\n",
    "\n",
    "# Adjusted Rand Index: điều chỉnh Rand-Index\n",
    "print(\"Adjusted Rand Index: \")\n",
    "print(metrics.adjusted_rand_score(labels, pre))\n",
    "\n",
    "# Hệ số bóng\n",
    "#print(\"Silhouette Coeficient: \")\n",
    "#print(metrics.silhoutette_score(labels, pre)\n",
    "\n"
   ]
  },
  {
   "cell_type": "code",
   "execution_count": 15,
   "metadata": {},
   "outputs": [
    {
     "name": "stdout",
     "output_type": "stream",
     "text": [
      "Khoi tao KMeans\n",
      "Chay Kmeans\n",
      "Homogeneity: \n",
      "0.4533782120749605\n",
      "Completeness: \n",
      "0.4811776929078596\n",
      "Adjusted Rand Index: \n",
      "0.2629440605349322\n"
     ]
    }
   ],
   "source": [
    "print(\"Khoi tao KMeans\")\n",
    "model = KMeans(n_clusters = 20, init='k-means++', max_iter = 100, n_init = 3)\n",
    "\n",
    "print(\"Chay Kmeans\")\n",
    "model.fit(X_train)\n",
    "\n",
    "pre = model.labels_\n",
    "\n",
    "# Homogeneity : tính đồng nhất\n",
    "print(\"Homogeneity: \")\n",
    "print(metrics.homogeneity_score(labels, pre))\n",
    "\n",
    "# Completeness : tính đầy đủ\n",
    "print(\"Completeness: \")\n",
    "print(metrics.completeness_score(labels, pre))\n",
    "\n",
    "# Adjusted Rand Index: điều chỉnh Rand-Index\n",
    "print(\"Adjusted Rand Index: \")\n",
    "print(metrics.adjusted_rand_score(labels, pre))\n",
    "\n",
    "# Hệ số bóng\n",
    "#print(\"Silhouette Coeficient: \")\n",
    "#print(metrics.silhoutette_score(labels, pre)\n",
    "\n"
   ]
  },
  {
   "cell_type": "code",
   "execution_count": 16,
   "metadata": {},
   "outputs": [
    {
     "name": "stdout",
     "output_type": "stream",
     "text": [
      "Khoi tao KMeans\n",
      "Chay Kmeans\n",
      "Homogeneity: \n",
      "0.4802284663564855\n",
      "Completeness: \n",
      "0.5235334121232393\n",
      "Adjusted Rand Index: \n",
      "0.25751598169716194\n"
     ]
    }
   ],
   "source": [
    "print(\"Khoi tao KMeans\")\n",
    "model = KMeans(n_clusters = 20, init='k-means++', max_iter = 100, n_init = 4)\n",
    "\n",
    "print(\"Chay Kmeans\")\n",
    "model.fit(X_train)\n",
    "\n",
    "pre = model.labels_\n",
    "\n",
    "# Homogeneity : tính đồng nhất\n",
    "print(\"Homogeneity: \")\n",
    "print(metrics.homogeneity_score(labels, pre))\n",
    "\n",
    "# Completeness : tính đầy đủ\n",
    "print(\"Completeness: \")\n",
    "print(metrics.completeness_score(labels, pre))\n",
    "\n",
    "# Adjusted Rand Index: điều chỉnh Rand-Index\n",
    "print(\"Adjusted Rand Index: \")\n",
    "print(metrics.adjusted_rand_score(labels, pre))\n",
    "\n",
    "# Hệ số bóng\n",
    "#print(\"Silhouette Coeficient: \")\n",
    "#print(metrics.silhoutette_score(labels, pre)\n",
    "\n"
   ]
  },
  {
   "cell_type": "code",
   "execution_count": 17,
   "metadata": {},
   "outputs": [
    {
     "name": "stdout",
     "output_type": "stream",
     "text": [
      "Khoi tao KMeans\n",
      "Chay Kmeans\n",
      "Homogeneity: \n",
      "0.4396238008414415\n",
      "Completeness: \n",
      "0.4746813370521564\n",
      "Adjusted Rand Index: \n",
      "0.23325131248849978\n"
     ]
    }
   ],
   "source": [
    "print(\"Khoi tao KMeans\")\n",
    "model = KMeans(n_clusters = 20, init='k-means++', max_iter = 200, n_init = 1)\n",
    "\n",
    "print(\"Chay Kmeans\")\n",
    "model.fit(X_train)\n",
    "\n",
    "pre = model.labels_\n",
    "\n",
    "# Homogeneity : tính đồng nhất\n",
    "print(\"Homogeneity: \")\n",
    "print(metrics.homogeneity_score(labels, pre))\n",
    "\n",
    "# Completeness : tính đầy đủ\n",
    "print(\"Completeness: \")\n",
    "print(metrics.completeness_score(labels, pre))\n",
    "\n",
    "# Adjusted Rand Index: điều chỉnh Rand-Index\n",
    "print(\"Adjusted Rand Index: \")\n",
    "print(metrics.adjusted_rand_score(labels, pre))\n",
    "\n",
    "# Hệ số bóng\n",
    "#print(\"Silhouette Coeficient: \")\n",
    "#print(metrics.silhoutette_score(labels, pre)\n",
    "\n"
   ]
  },
  {
   "cell_type": "code",
   "execution_count": 18,
   "metadata": {},
   "outputs": [
    {
     "name": "stdout",
     "output_type": "stream",
     "text": [
      "Khoi tao KMeans\n",
      "Chay Kmeans\n",
      "Homogeneity: \n",
      "0.43996249377357793\n",
      "Completeness: \n",
      "0.4700564607789852\n",
      "Adjusted Rand Index: \n",
      "0.248324208028071\n"
     ]
    }
   ],
   "source": [
    "print(\"Khoi tao KMeans\")\n",
    "model = KMeans(n_clusters = 20, init='k-means++', max_iter = 200, n_init = 3)\n",
    "\n",
    "print(\"Chay Kmeans\")\n",
    "model.fit(X_train)\n",
    "\n",
    "pre = model.labels_\n",
    "\n",
    "# Homogeneity : tính đồng nhất\n",
    "print(\"Homogeneity: \")\n",
    "print(metrics.homogeneity_score(labels, pre))\n",
    "\n",
    "# Completeness : tính đầy đủ\n",
    "print(\"Completeness: \")\n",
    "print(metrics.completeness_score(labels, pre))\n",
    "\n",
    "# Adjusted Rand Index: điều chỉnh Rand-Index\n",
    "print(\"Adjusted Rand Index: \")\n",
    "print(metrics.adjusted_rand_score(labels, pre))\n",
    "\n",
    "# Hệ số bóng\n",
    "#print(\"Silhouette Coeficient: \")\n",
    "#print(metrics.silhoutette_score(labels, pre)\n"
   ]
  },
  {
   "cell_type": "code",
   "execution_count": 19,
   "metadata": {},
   "outputs": [
    {
     "name": "stdout",
     "output_type": "stream",
     "text": [
      "Khoi tao KMeans\n",
      "Chay Kmeans\n",
      "Homogeneity: \n",
      "0.42300914110614696\n",
      "Completeness: \n",
      "0.47329677218029065\n",
      "Adjusted Rand Index: \n",
      "0.21813956303146337\n"
     ]
    }
   ],
   "source": [
    "print(\"Khoi tao KMeans\")\n",
    "model = KMeans(n_clusters = 20, init='k-means++', max_iter = 300, n_init = 5)\n",
    "\n",
    "print(\"Chay Kmeans\")\n",
    "model.fit(X_train)\n",
    "\n",
    "pre = model.labels_\n",
    "\n",
    "# Homogeneity : tính đồng nhất\n",
    "print(\"Homogeneity: \")\n",
    "print(metrics.homogeneity_score(labels, pre))\n",
    "\n",
    "# Completeness : tính đầy đủ\n",
    "print(\"Completeness: \")\n",
    "print(metrics.completeness_score(labels, pre))\n",
    "\n",
    "# Adjusted Rand Index: điều chỉnh Rand-Index\n",
    "print(\"Adjusted Rand Index: \")\n",
    "print(metrics.adjusted_rand_score(labels, pre))\n",
    "\n",
    "# Hệ số bóng\n",
    "#print(\"Silhouette Coeficient: \")\n",
    "#print(metrics.silhoutette_score(labels, pre)\n"
   ]
  },
  {
   "cell_type": "code",
   "execution_count": null,
   "metadata": {},
   "outputs": [],
   "source": []
  },
  {
   "cell_type": "code",
   "execution_count": null,
   "metadata": {},
   "outputs": [],
   "source": []
  }
 ],
 "metadata": {
  "kernelspec": {
   "display_name": "Python 3",
   "language": "python",
   "name": "python3"
  },
  "language_info": {
   "codemirror_mode": {
    "name": "ipython",
    "version": 3
   },
   "file_extension": ".py",
   "mimetype": "text/x-python",
   "name": "python",
   "nbconvert_exporter": "python",
   "pygments_lexer": "ipython3",
   "version": "3.5.2"
  }
 },
 "nbformat": 4,
 "nbformat_minor": 2
}
