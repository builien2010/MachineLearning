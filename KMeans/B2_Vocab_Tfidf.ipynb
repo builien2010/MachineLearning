{
 "cells": [
  {
   "cell_type": "code",
   "execution_count": 1,
   "metadata": {},
   "outputs": [],
   "source": [
    "from sklearn.feature_extraction.text import CountVectorizer, TfidfVectorizer\n",
    "from scipy import sparse, io\n"
   ]
  },
  {
   "cell_type": "code",
   "execution_count": 2,
   "metadata": {},
   "outputs": [],
   "source": [
    "contents_train = []\n"
   ]
  },
  {
   "cell_type": "code",
   "execution_count": 5,
   "metadata": {},
   "outputs": [],
   "source": [
    "\n",
    "f = open(\"train.txt\", \"r\")"
   ]
  },
  {
   "cell_type": "code",
   "execution_count": 6,
   "metadata": {},
   "outputs": [],
   "source": [
    "labels = \"\"\n",
    "for line in f:\n",
    "    \n",
    "    line = line.rstrip()\n",
    "    line = line.split(\"<###>\")\n",
    "    contents_train.append(line[1])\n",
    "    labels = labels + line[0] + \"\\n\"\n"
   ]
  },
  {
   "cell_type": "code",
   "execution_count": 7,
   "metadata": {},
   "outputs": [],
   "source": [
    "\n",
    "f.close()"
   ]
  },
  {
   "cell_type": "code",
   "execution_count": 8,
   "metadata": {},
   "outputs": [],
   "source": [
    "f = open(\"label.txt\", \"w+\")\n",
    "\n",
    "f.write(labels)\n",
    "\n",
    "f.close()"
   ]
  },
  {
   "cell_type": "code",
   "execution_count": 11,
   "metadata": {},
   "outputs": [
    {
     "name": "stdout",
     "output_type": "stream",
     "text": [
      "train.shape:  (11314, 11016)\n",
      "11016\n"
     ]
    }
   ],
   "source": [
    "tfidf_vectorizer = TfidfVectorizer(min_df = 0.0005, max_df = 0.990)\n",
    "train = tfidf_vectorizer.fit_transform(contents_train)\n",
    "print(\"train.shape: \", train.shape)\n",
    "io.mmwrite('train.mtx', train)\n",
    "\n",
    "voc =  tfidf_vectorizer.get_feature_names()\n",
    "\n",
    "print(len(voc))\n"
   ]
  },
  {
   "cell_type": "code",
   "execution_count": 12,
   "metadata": {},
   "outputs": [],
   "source": [
    "\n",
    "f = open(\"vocab_train.txt\", \"w+\")\n",
    "vocab = \"\"\n",
    "\n",
    "for i in voc:\n",
    "    i = i + '\\n'\n",
    "    #print(i)\n",
    "    vocab = vocab + i\n",
    "\n",
    "f.write(vocab)\n",
    "\n",
    "f.close()"
   ]
  },
  {
   "cell_type": "code",
   "execution_count": 16,
   "metadata": {},
   "outputs": [],
   "source": [
    "f = open(\"test.txt\", \"r\")"
   ]
  },
  {
   "cell_type": "code",
   "execution_count": 19,
   "metadata": {},
   "outputs": [],
   "source": [
    "contents_test = []"
   ]
  },
  {
   "cell_type": "code",
   "execution_count": 20,
   "metadata": {},
   "outputs": [],
   "source": [
    "labels_test = \"\"\n",
    "for line in f:\n",
    "    \n",
    "    line = line.rstrip()\n",
    "    line = line.split(\"<###>\")\n",
    "    contents_test.append(line[1])\n",
    "    labels_test = labels_test + line[0] + \"\\n\"\n"
   ]
  },
  {
   "cell_type": "code",
   "execution_count": 21,
   "metadata": {},
   "outputs": [],
   "source": [
    "f.close()"
   ]
  },
  {
   "cell_type": "code",
   "execution_count": 22,
   "metadata": {},
   "outputs": [],
   "source": [
    "f = open(\"label_test.txt\", \"w+\")\n",
    "\n",
    "f.write(labels_test)\n",
    "\n",
    "f.close()"
   ]
  },
  {
   "cell_type": "code",
   "execution_count": 23,
   "metadata": {},
   "outputs": [
    {
     "name": "stdout",
     "output_type": "stream",
     "text": [
      "test.shape:  (4115, 10947)\n",
      "10947\n"
     ]
    }
   ],
   "source": [
    "tfidf_vectorizer = TfidfVectorizer(min_df = 0.0005, max_df = 0.990)\n",
    "test = tfidf_vectorizer.fit_transform(contents_test)\n",
    "print(\"test.shape: \", test.shape)\n",
    "io.mmwrite('test.mtx', test)\n",
    "\n",
    "voc_test =  tfidf_vectorizer.get_feature_names()\n",
    "\n",
    "print(len(voc_test))\n"
   ]
  },
  {
   "cell_type": "code",
   "execution_count": 24,
   "metadata": {},
   "outputs": [],
   "source": [
    "f = open(\"vocab_test.txt\", \"w+\")\n",
    "vocab = \"\"\n",
    "\n",
    "for i in voc_test:\n",
    "    i = i + '\\n'\n",
    "    #print(i)\n",
    "    vocab = vocab + i\n",
    "\n",
    "f.write(vocab)\n",
    "\n",
    "f.close()"
   ]
  },
  {
   "cell_type": "code",
   "execution_count": null,
   "metadata": {},
   "outputs": [],
   "source": []
  }
 ],
 "metadata": {
  "kernelspec": {
   "display_name": "Python 3",
   "language": "python",
   "name": "python3"
  },
  "language_info": {
   "codemirror_mode": {
    "name": "ipython",
    "version": 3
   },
   "file_extension": ".py",
   "mimetype": "text/x-python",
   "name": "python",
   "nbconvert_exporter": "python",
   "pygments_lexer": "ipython3",
   "version": "3.5.2"
  }
 },
 "nbformat": 4,
 "nbformat_minor": 2
}
