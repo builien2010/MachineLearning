{
 "cells": [
  {
   "cell_type": "code",
   "execution_count": 3,
   "metadata": {},
   "outputs": [],
   "source": [
    "\n",
    "from sklearn.cluster import KMeans \n",
    "from sklearn.feature_extraction.text import TfidfVectorizer \n",
    "from scipy import io\n",
    "from sklearn import metrics"
   ]
  },
  {
   "cell_type": "code",
   "execution_count": 5,
   "metadata": {},
   "outputs": [],
   "source": [
    "X_train = io.mmread(\"train.mtx\")"
   ]
  },
  {
   "cell_type": "code",
   "execution_count": 6,
   "metadata": {},
   "outputs": [],
   "source": [
    "labels_true = []"
   ]
  },
  {
   "cell_type": "code",
   "execution_count": 7,
   "metadata": {},
   "outputs": [],
   "source": [
    "f = open(\"label.txt\", \"r\")"
   ]
  },
  {
   "cell_type": "code",
   "execution_count": 8,
   "metadata": {},
   "outputs": [],
   "source": [
    "labels_true = [] \n",
    "data = f.read()\n",
    "lines = data.split(\"\\n\")\n",
    "for line in lines:\n",
    "    #line = line.rstrip()\n",
    "    #print(line)\n",
    "    if( line != ' '):\n",
    "        labels_true.append(line)"
   ]
  },
  {
   "cell_type": "code",
   "execution_count": 9,
   "metadata": {},
   "outputs": [],
   "source": [
    "f.close()"
   ]
  },
  {
   "cell_type": "code",
   "execution_count": 10,
   "metadata": {},
   "outputs": [],
   "source": [
    "#print(\"label:\", labels_true)\n",
    "del labels_true[-1]\n",
    "#print(len(labels_true))"
   ]
  },
  {
   "cell_type": "code",
   "execution_count": 15,
   "metadata": {},
   "outputs": [
    {
     "name": "stdout",
     "output_type": "stream",
     "text": [
      "Khoi tao KMeans\n",
      "Chay Kmeans\n"
     ]
    },
    {
     "data": {
      "text/plain": [
       "KMeans(algorithm='auto', copy_x=True, init='k-means++', max_iter=100,\n",
       "    n_clusters=20, n_init=1, n_jobs=None, precompute_distances='auto',\n",
       "    random_state=None, tol=0.0001, verbose=0)"
      ]
     },
     "execution_count": 15,
     "metadata": {},
     "output_type": "execute_result"
    }
   ],
   "source": [
    "print(\"Khoi tao KMeans\")\n",
    "model = KMeans(n_clusters = 20, init='k-means++', max_iter = 100, n_init = 1)\n",
    "\n",
    "print(\"Chay Kmeans\")\n",
    "model.fit(X_train)"
   ]
  },
  {
   "cell_type": "code",
   "execution_count": 16,
   "metadata": {},
   "outputs": [],
   "source": [
    "pre = model.labels_"
   ]
  },
  {
   "cell_type": "code",
   "execution_count": 18,
   "metadata": {},
   "outputs": [],
   "source": [
    "labels = labels_true"
   ]
  },
  {
   "cell_type": "code",
   "execution_count": 26,
   "metadata": {},
   "outputs": [
    {
     "name": "stdout",
     "output_type": "stream",
     "text": [
      "Homogeneity: \n",
      "0.4625737853786468\n",
      "Completeness: \n",
      "0.49989008090671866\n",
      "Adjusted Rand Index: \n",
      "0.27839326280374804\n"
     ]
    }
   ],
   "source": [
    "# Homogeneity : tính đồng nhất\n",
    "print(\"Homogeneity: \")\n",
    "print(metrics.homogeneity_score(labels, pre))\n",
    "\n",
    "# Completeness : tính đầy đủ\n",
    "print(\"Completeness: \")\n",
    "print(metrics.completeness_score(labels, pre))\n",
    "\n",
    "# Adjusted Rand Index: điều chỉnh Rand-Index\n",
    "print(\"Adjusted Rand Index: \")\n",
    "print(metrics.adjusted_rand_score(labels, pre))\n",
    "\n",
    "# Hệ số bóng\n",
    "#print(\"Silhouette Coeficient: \")\n",
    "#print(metrics.silhoutette_score(labels, pre))"
   ]
  },
  {
   "cell_type": "code",
   "execution_count": 30,
   "metadata": {},
   "outputs": [
    {
     "name": "stdout",
     "output_type": "stream",
     "text": [
      "Khoi tao KMeans\n",
      "Chay Kmeans\n",
      "Homogeneity: \n",
      "0.4502754625527149\n",
      "Completeness: \n",
      "0.5106684694326075\n",
      "Adjusted Rand Index: \n",
      "0.23028334262003425\n"
     ]
    }
   ],
   "source": [
    "print(\"Khoi tao KMeans\")\n",
    "model = KMeans(n_clusters = 20, init='k-means++', max_iter = 100, n_init = 2)\n",
    "\n",
    "print(\"Chay Kmeans\")\n",
    "model.fit(X_train)\n",
    "\n",
    "pre = model.labels_\n",
    "\n",
    "# Homogeneity : tính đồng nhất\n",
    "print(\"Homogeneity: \")\n",
    "print(metrics.homogeneity_score(labels, pre))\n",
    "\n",
    "# Completeness : tính đầy đủ\n",
    "print(\"Completeness: \")\n",
    "print(metrics.completeness_score(labels, pre))\n",
    "\n",
    "# Adjusted Rand Index: điều chỉnh Rand-Index\n",
    "print(\"Adjusted Rand Index: \")\n",
    "print(metrics.adjusted_rand_score(labels, pre))\n",
    "\n",
    "# Hệ số bóng\n",
    "#print(\"Silhouette Coeficient: \")\n",
    "#print(metrics.silhoutette_score(labels, pre)\n",
    "\n"
   ]
  },
  {
   "cell_type": "code",
   "execution_count": 31,
   "metadata": {},
   "outputs": [
    {
     "name": "stdout",
     "output_type": "stream",
     "text": [
      "Khoi tao KMeans\n",
      "Chay Kmeans\n",
      "Homogeneity: \n",
      "0.4577667343404081\n",
      "Completeness: \n",
      "0.49140621421213054\n",
      "Adjusted Rand Index: \n",
      "0.26301859961282376\n"
     ]
    }
   ],
   "source": [
    "print(\"Khoi tao KMeans\")\n",
    "model = KMeans(n_clusters = 20, init='k-means++', max_iter = 100, n_init = 3)\n",
    "\n",
    "print(\"Chay Kmeans\")\n",
    "model.fit(X_train)\n",
    "\n",
    "pre = model.labels_\n",
    "\n",
    "# Homogeneity : tính đồng nhất\n",
    "print(\"Homogeneity: \")\n",
    "print(metrics.homogeneity_score(labels, pre))\n",
    "\n",
    "# Completeness : tính đầy đủ\n",
    "print(\"Completeness: \")\n",
    "print(metrics.completeness_score(labels, pre))\n",
    "\n",
    "# Adjusted Rand Index: điều chỉnh Rand-Index\n",
    "print(\"Adjusted Rand Index: \")\n",
    "print(metrics.adjusted_rand_score(labels, pre))\n",
    "\n",
    "# Hệ số bóng\n",
    "#print(\"Silhouette Coeficient: \")\n",
    "#print(metrics.silhoutette_score(labels, pre)\n",
    "\n"
   ]
  },
  {
   "cell_type": "code",
   "execution_count": 29,
   "metadata": {},
   "outputs": [
    {
     "name": "stdout",
     "output_type": "stream",
     "text": [
      "Khoi tao KMeans\n",
      "Chay Kmeans\n",
      "Homogeneity: \n",
      "0.4390336648150901\n",
      "Completeness: \n",
      "0.49273220287767\n",
      "Adjusted Rand Index: \n",
      "0.22636730113640607\n"
     ]
    }
   ],
   "source": [
    "print(\"Khoi tao KMeans\")\n",
    "model = KMeans(n_clusters = 20, init='k-means++', max_iter = 100, n_init = 4)\n",
    "\n",
    "print(\"Chay Kmeans\")\n",
    "model.fit(X_train)\n",
    "\n",
    "pre = model.labels_\n",
    "\n",
    "# Homogeneity : tính đồng nhất\n",
    "print(\"Homogeneity: \")\n",
    "print(metrics.homogeneity_score(labels, pre))\n",
    "\n",
    "# Completeness : tính đầy đủ\n",
    "print(\"Completeness: \")\n",
    "print(metrics.completeness_score(labels, pre))\n",
    "\n",
    "# Adjusted Rand Index: điều chỉnh Rand-Index\n",
    "print(\"Adjusted Rand Index: \")\n",
    "print(metrics.adjusted_rand_score(labels, pre))\n",
    "\n",
    "# Hệ số bóng\n",
    "#print(\"Silhouette Coeficient: \")\n",
    "#print(metrics.silhoutette_score(labels, pre)\n",
    "\n"
   ]
  },
  {
   "cell_type": "code",
   "execution_count": 28,
   "metadata": {},
   "outputs": [
    {
     "name": "stdout",
     "output_type": "stream",
     "text": [
      "Khoi tao KMeans\n",
      "Chay Kmeans\n",
      "Homogeneity: \n",
      "0.4542933711034718\n",
      "Completeness: \n",
      "0.4930730119387032\n",
      "Adjusted Rand Index: \n",
      "0.2564205679232643\n"
     ]
    }
   ],
   "source": [
    "print(\"Khoi tao KMeans\")\n",
    "model = KMeans(n_clusters = 20, init='k-means++', max_iter = 200, n_init = 1)\n",
    "\n",
    "print(\"Chay Kmeans\")\n",
    "model.fit(X_train)\n",
    "\n",
    "pre = model.labels_\n",
    "\n",
    "# Homogeneity : tính đồng nhất\n",
    "print(\"Homogeneity: \")\n",
    "print(metrics.homogeneity_score(labels, pre))\n",
    "\n",
    "# Completeness : tính đầy đủ\n",
    "print(\"Completeness: \")\n",
    "print(metrics.completeness_score(labels, pre))\n",
    "\n",
    "# Adjusted Rand Index: điều chỉnh Rand-Index\n",
    "print(\"Adjusted Rand Index: \")\n",
    "print(metrics.adjusted_rand_score(labels, pre))\n",
    "\n",
    "# Hệ số bóng\n",
    "#print(\"Silhouette Coeficient: \")\n",
    "#print(metrics.silhoutette_score(labels, pre)\n",
    "\n"
   ]
  },
  {
   "cell_type": "code",
   "execution_count": 32,
   "metadata": {},
   "outputs": [
    {
     "name": "stdout",
     "output_type": "stream",
     "text": [
      "Khoi tao KMeans\n",
      "Chay Kmeans\n",
      "Homogeneity: \n",
      "0.5087836706291049\n",
      "Completeness: \n",
      "0.544293113300857\n",
      "Adjusted Rand Index: \n",
      "0.3213123388984165\n"
     ]
    }
   ],
   "source": [
    "print(\"Khoi tao KMeans\")\n",
    "model = KMeans(n_clusters = 20, init='k-means++', max_iter = 200, n_init = 3)\n",
    "\n",
    "print(\"Chay Kmeans\")\n",
    "model.fit(X_train)\n",
    "\n",
    "pre = model.labels_\n",
    "\n",
    "# Homogeneity : tính đồng nhất\n",
    "print(\"Homogeneity: \")\n",
    "print(metrics.homogeneity_score(labels, pre))\n",
    "\n",
    "# Completeness : tính đầy đủ\n",
    "print(\"Completeness: \")\n",
    "print(metrics.completeness_score(labels, pre))\n",
    "\n",
    "# Adjusted Rand Index: điều chỉnh Rand-Index\n",
    "print(\"Adjusted Rand Index: \")\n",
    "print(metrics.adjusted_rand_score(labels, pre))\n",
    "\n",
    "# Hệ số bóng\n",
    "#print(\"Silhouette Coeficient: \")\n",
    "#print(metrics.silhoutette_score(labels, pre)\n"
   ]
  },
  {
   "cell_type": "code",
   "execution_count": 33,
   "metadata": {},
   "outputs": [
    {
     "name": "stdout",
     "output_type": "stream",
     "text": [
      "Khoi tao KMeans\n",
      "Chay Kmeans\n",
      "Homogeneity: \n",
      "0.4879926632477387\n",
      "Completeness: \n",
      "0.5294849707464976\n",
      "Adjusted Rand Index: \n",
      "0.27876005237168605\n"
     ]
    }
   ],
   "source": [
    "print(\"Khoi tao KMeans\")\n",
    "model = KMeans(n_clusters = 20, init='k-means++', max_iter = 300, n_init = 5)\n",
    "\n",
    "print(\"Chay Kmeans\")\n",
    "model.fit(X_train)\n",
    "\n",
    "pre = model.labels_\n",
    "\n",
    "# Homogeneity : tính đồng nhất\n",
    "print(\"Homogeneity: \")\n",
    "print(metrics.homogeneity_score(labels, pre))\n",
    "\n",
    "# Completeness : tính đầy đủ\n",
    "print(\"Completeness: \")\n",
    "print(metrics.completeness_score(labels, pre))\n",
    "\n",
    "# Adjusted Rand Index: điều chỉnh Rand-Index\n",
    "print(\"Adjusted Rand Index: \")\n",
    "print(metrics.adjusted_rand_score(labels, pre))\n",
    "\n",
    "# Hệ số bóng\n",
    "#print(\"Silhouette Coeficient: \")\n",
    "#print(metrics.silhoutette_score(labels, pre)\n"
   ]
  },
  {
   "cell_type": "code",
   "execution_count": null,
   "metadata": {},
   "outputs": [],
   "source": []
  }
 ],
 "metadata": {
  "kernelspec": {
   "display_name": "Python 3",
   "language": "python",
   "name": "python3"
  },
  "language_info": {
   "codemirror_mode": {
    "name": "ipython",
    "version": 3
   },
   "file_extension": ".py",
   "mimetype": "text/x-python",
   "name": "python",
   "nbconvert_exporter": "python",
   "pygments_lexer": "ipython3",
   "version": "3.5.2"
  }
 },
 "nbformat": 4,
 "nbformat_minor": 2
}
